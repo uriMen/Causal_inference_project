{
  "nbformat": 4,
  "nbformat_minor": 0,
  "metadata": {
    "colab": {
      "provenance": []
    },
    "kernelspec": {
      "name": "python3",
      "display_name": "Python 3"
    },
    "language_info": {
      "name": "python"
    }
  },
  "cells": [
    {
      "cell_type": "markdown",
      "source": [
        "# Investigating Causal Effect of Road Lighting on Severity of Traffic Accidents with Casualties – Causal Inference Final Project"
      ],
      "metadata": {
        "id": "ZHX2cAVWSrPC"
      }
    },
    {
      "cell_type": "markdown",
      "source": [
        "### Import packages"
      ],
      "metadata": {
        "id": "to_EuHyLTMbD"
      }
    },
    {
      "cell_type": "code",
      "source": [
        "from datetime import datetime\n",
        "import numpy as np\n",
        "import pandas as pd\n",
        "import matplotlib.pyplot as plt\n",
        "import xgboost as xgb\n",
        "from sklearn.model_selection import cross_validate, train_test_split, GridSearchCV\n",
        "from sklearn.ensemble import GradientBoostingClassifier as gbc\n",
        "from sklearn.ensemble import GradientBoostingRegressor as gbr\n",
        "from sklearn.linear_model import LogisticRegression, LinearRegression\n",
        "from sklearn.metrics import (\n",
        "    mean_squared_error, pairwise_distances, pairwise_distances_argmin, \n",
        "    confusion_matrix, classification_report\n",
        "                             )\n",
        "from sklearn.calibration import calibration_curve\n",
        "import scipy.stats as st"
      ],
      "metadata": {
        "id": "omf7oclfTLTs"
      },
      "execution_count": 2,
      "outputs": []
    },
    {
      "cell_type": "markdown",
      "source": [
        "### Import the data"
      ],
      "metadata": {
        "id": "YP_oM5uFS7ab"
      }
    },
    {
      "cell_type": "code",
      "execution_count": 4,
      "metadata": {
        "id": "re2ogmE6Slq_"
      },
      "outputs": [],
      "source": [
        "df = pd.read_csv('dataset.csv')"
      ]
    },
    {
      "cell_type": "code",
      "source": [
        "df.info()"
      ],
      "metadata": {
        "colab": {
          "base_uri": "https://localhost:8080/"
        },
        "id": "JA7kfJrLTu_e",
        "outputId": "3323c14b-18dd-48e4-d62d-9e3f00d709f2"
      },
      "execution_count": 5,
      "outputs": [
        {
          "output_type": "stream",
          "name": "stdout",
          "text": [
            "<class 'pandas.core.frame.DataFrame'>\n",
            "RangeIndex: 12670 entries, 0 to 12669\n",
            "Data columns (total 45 columns):\n",
            " #   Column             Non-Null Count  Dtype  \n",
            "---  ------             --------------  -----  \n",
            " 0   pk_teuna_fikt      12670 non-null  int64  \n",
            " 1   sug_tik            12670 non-null  int64  \n",
            " 2   THUM_GEOGRAFI      12670 non-null  int64  \n",
            " 3   SUG_DEREH          12670 non-null  int64  \n",
            " 4   SEMEL_YISHUV       12670 non-null  int64  \n",
            " 5   REHOV1             8055 non-null   float64\n",
            " 6   REHOV2             4197 non-null   float64\n",
            " 7   BAYIT              4382 non-null   float64\n",
            " 8   ZOMET_IRONI        4198 non-null   float64\n",
            " 9   KVISH1             3853 non-null   float64\n",
            " 10  KVISH2             3787 non-null   float64\n",
            " 11  KM                 3848 non-null   float64\n",
            " 12  ZOMET_LO_IRONI     1222 non-null   float64\n",
            " 13  YEHIDA             12670 non-null  int64  \n",
            " 14  SHNAT_TEUNA        12670 non-null  int64  \n",
            " 15  HODESH_TEUNA       12670 non-null  int64  \n",
            " 16  SHAA               12670 non-null  int64  \n",
            " 17  SUG_YOM            12670 non-null  int64  \n",
            " 18  YOM_LAYLA          12670 non-null  int64  \n",
            " 19  YOM_BASHAVUA       12670 non-null  int64  \n",
            " 20  HUMRAT_TEUNA       12670 non-null  int64  \n",
            " 21  SUG_TEUNA          12670 non-null  int64  \n",
            " 22  HAD_MASLUL         12670 non-null  int64  \n",
            " 23  RAV_MASLUL         12670 non-null  int64  \n",
            " 24  MEHIRUT_MUTERET    12670 non-null  int64  \n",
            " 25  TKINUT             12670 non-null  int64  \n",
            " 26  ROHAV              12670 non-null  int64  \n",
            " 27  SIMUN_TIMRUR       12670 non-null  int64  \n",
            " 28  TEURA              12670 non-null  int64  \n",
            " 29  MEZEG_AVIR         12670 non-null  int64  \n",
            " 30  PNE_KVISH          12670 non-null  int64  \n",
            " 31  SUG_EZEM           12670 non-null  int64  \n",
            " 32  MERHAK_EZEM        12670 non-null  int64  \n",
            " 33  LO_HAZA            12670 non-null  int64  \n",
            " 34  OFEN_HAZIYA        12670 non-null  int64  \n",
            " 35  MEKOM_HAZIYA       12670 non-null  int64  \n",
            " 36  KIVUN_HAZIYA       12670 non-null  int64  \n",
            " 37  MAHOZ              12670 non-null  int64  \n",
            " 38  NAFA               12670 non-null  int64  \n",
            " 39  EZOR_TIVI          12670 non-null  int64  \n",
            " 40  MAAMAD_MINIZIPALI  12662 non-null  float64\n",
            " 41  ZURAT_ISHUV        12670 non-null  int64  \n",
            " 42  STATUS_IGUN        12670 non-null  int64  \n",
            " 43  X                  12658 non-null  float64\n",
            " 44  Y                  12658 non-null  float64\n",
            "dtypes: float64(11), int64(34)\n",
            "memory usage: 4.4 MB\n"
          ]
        }
      ]
    },
    {
      "cell_type": "markdown",
      "source": [
        "### Data pre-processing"
      ],
      "metadata": {
        "id": "SUJz56b0sKkK"
      }
    },
    {
      "cell_type": "code",
      "source": [
        "# columns to remove\n",
        "cols_to_remove = ['sug_tik', 'SHNAT_TEUNA'] # , pk_teuna_fikt]\n",
        "df.drop(columns=cols_to_remove, inplace=True)\n",
        "\n",
        "# rows to remove:\n",
        "\n",
        "# THUM_GEOGRAFI == 2  (remove rows of yehuda and shomron records)\n",
        "df.drop(index=df[df['THUM_GEOGRAFI'] == 2].index, inplace=True)\n",
        "# then drop whole column since all values are the same\n",
        "df.drop(columns=['THUM_GEOGRAFI'], inplace=True)\n",
        "# YOM_LAYLA  == 1 (use only night time records)\n",
        "df.drop(index=df[df['YOM_LAYLA'] == 1].index, inplace=True)\n",
        "# TEURA == 10 (don't use twilight records)\n",
        "df.drop(index=df[df['TEURA'] == 10].index, inplace=True)\n",
        "# rows with unknown coordinates\n",
        "df.dropna(subset=['X', 'Y'], inplace=True)"
      ],
      "metadata": {
        "id": "7Ya623hTW7l3"
      },
      "execution_count": 6,
      "outputs": []
    },
    {
      "cell_type": "code",
      "source": [
        "df.shape"
      ],
      "metadata": {
        "colab": {
          "base_uri": "https://localhost:8080/"
        },
        "id": "uQh7h6SIofY7",
        "outputId": "fe53e60c-3a8c-4e57-e1b4-ac9ba2b57724"
      },
      "execution_count": 7,
      "outputs": [
        {
          "output_type": "execute_result",
          "data": {
            "text/plain": [
              "(3916, 42)"
            ]
          },
          "metadata": {},
          "execution_count": 7
        }
      ]
    },
    {
      "cell_type": "code",
      "source": [
        "df['TEURA'].value_counts()"
      ],
      "metadata": {
        "colab": {
          "base_uri": "https://localhost:8080/"
        },
        "id": "bWCYZ4JjZJU3",
        "outputId": "b4c46068-b8e7-4eb3-ff27-f7114debe615"
      },
      "execution_count": 8,
      "outputs": [
        {
          "output_type": "execute_result",
          "data": {
            "text/plain": [
              "3    2680\n",
              "6     925\n",
              "5     187\n",
              "4     112\n",
              "7      12\n",
              "Name: TEURA, dtype: int64"
            ]
          },
          "metadata": {},
          "execution_count": 8
        }
      ]
    },
    {
      "cell_type": "markdown",
      "source": [
        "### Exploratory Data Analtsis"
      ],
      "metadata": {
        "id": "LhbvHF5IQhJE"
      }
    },
    {
      "cell_type": "code",
      "source": [
        "grouped_df = df.groupby(['HUMRAT_TEUNA','MEHIRUT_MUTERET']).count().iloc[:,0].to_dict()\n",
        "\n",
        "# HUMRAT_TEUNA, SUG_DEREH\n",
        "\n",
        "# groups = list(grouped_df.groups.keys())\n",
        "# labels = [str(group) for group in groups]\n",
        "\n",
        "grouped_df"
      ],
      "metadata": {
        "id": "Wf5kQ8MkR12Y"
      },
      "execution_count": null,
      "outputs": []
    },
    {
      "cell_type": "code",
      "source": [
        "def plot_grouped_bar_chart(data_dict, x_label='', y_label='', title='',\n",
        "                           category_labels=dict()):\n",
        "    fig, ax = plt.subplots()    \n",
        "\n",
        "    severity_level = {1: 'Fatal', 2:'Major', 3:'Minor'}\n",
        "    \n",
        "\n",
        "    # Extract the unique x-axis values\n",
        "    x_values = sorted(set([key[0] for key in data_dict.keys()]))\n",
        "    y_values = sorted(set([key[1] for key in data_dict.keys()]))\n",
        "\n",
        "    # Determine the number of bars per group\n",
        "    # num_bars_per_group = int(len(data_dict) / len(x_values))\n",
        "\n",
        "    # Set the bar width and spacing\n",
        "    bar_width = 0.9 / len(y_values)\n",
        "    x_offsets = np.arange(len(x_values)) * bar_width\n",
        "\n",
        "    # Iterate over the x-axis values and plot the bars\n",
        "    for i, x_val in enumerate(x_values):\n",
        "        # Extract the y-axis values for this x-axis value\n",
        "        values = [data_dict[x_val, y_val] for y_val in y_values]\n",
        "\n",
        "        # Calculate the x positions of the bars\n",
        "        x_positions = np.arange(len(y_values)) + x_offsets[i]\n",
        "\n",
        "        # Plot the bars for this x-axis value\n",
        "        ax.bar(x_positions, values, width=bar_width, label=severity_level[x_val])\n",
        "\n",
        "    # Add axis labels and legend\n",
        "    ax.set_xlabel(x_label)\n",
        "    ax.set_ylabel(y_label)\n",
        "    ax.set_title(title)\n",
        "    ax.set_xticks(np.arange(len(y_values)) + (len(y_values)-1)/2 * bar_width)\n",
        "    plt.xticks(rotation=-30)\n",
        "    ax.set_xticklabels([category_labels[i] for i in (y_values)])\n",
        "    ax.legend()\n",
        "\n",
        "    plt.show()\n",
        "\n",
        "\n",
        "# severity_level = ['Fatal', 'Major', 'Minor']\n",
        "road_type = {1:'City Itersection', 2:'City Road', 3:'Inter-City Intersection', 4:'Inter-City Road'}\n",
        "day = {1: 'Sun', 2:'Mon', 3: 'Tue', 4:'Wed', 5:'Thu', 6:'Fri', 7:'Sat'}\n",
        "width = {0: 'unknown', 1: 'Up to 5m', 2: '5 to 7m', 3: '7 to 10.5m', 4: '10.5 to 14m', 5: 'Over 14m'}\n",
        "speed = {0: 'unknown', 1: 'Up to 50kph', 2: '60kph', 3: '70kph', 4: '80kph', 5:'90kph', 6:'100kph', 7:'110kph'}\n",
        "plot_grouped_bar_chart(grouped_df, x_label='Speed Limit', y_label='Num Accidents',\n",
        "                       title='', category_labels=speed)"
      ],
      "metadata": {
        "colab": {
          "base_uri": "https://localhost:8080/",
          "height": 312
        },
        "id": "IX_Um2cejCbh",
        "outputId": "57811b97-86bb-41b1-cca5-b2d56cb7636d"
      },
      "execution_count": 19,
      "outputs": [
        {
          "output_type": "display_data",
          "data": {
            "text/plain": [
              "<Figure size 432x288 with 1 Axes>"
            ],
            "image/png": "[encoded data removed]"
          },
          "metadata": {
            "needs_background": "light"
          }
        }
      ]
    },
    {
      "cell_type": "markdown",
      "source": [
        "### Deal with unknown night lighting ('TEURA' == 6)\n",
        "Try to find rows from the same location with different lighting code"
      ],
      "metadata": {
        "id": "0pab1tM7tWsq"
      }
    },
    {
      "cell_type": "code",
      "source": [
        "relevant_cols = ['SEMEL_YISHUV', 'REHOV1', 'REHOV2','BAYIT', 'ZOMET_IRONI', \n",
        "                 'KVISH1', 'KVISH2', 'KM', 'ZOMET_LO_IRONI', 'YEHIDA',\n",
        "                 'HAD_MASLUL', 'RAV_MASLUL', 'MAHOZ', 'NAFA', 'EZOR_TIVI',\n",
        "                 'MAAMAD_MINIZIPALI', 'ZURAT_ISHUV', 'STATUS_IGUN', 'X', 'Y']\n",
        "# df_temp = df[relevant_cols]\n",
        "unknown_light = df[df['TEURA'] == 6][relevant_cols + ['TEURA', 'pk_teuna_fikt']]\n",
        "known_light = df[df['TEURA'] != 6][relevant_cols + ['TEURA', 'pk_teuna_fikt']]\n",
        "\n",
        "joint = pd.merge(unknown_light, known_light, on=relevant_cols, how='inner')\n",
        "\n",
        "for i, row in joint[joint['TEURA_y'] == 5].iterrows():\n",
        "  original_row_index = df[df['pk_teuna_fikt'] == row['pk_teuna_fikt_x']].index\n",
        "  df.loc[original_row_index, 'TEURA'] = 5\n",
        "\n",
        "# remove all other 'unknown' lighting condition rows\n",
        "df.drop(index=df[df['TEURA'] == 6].index, inplace=True)"
      ],
      "metadata": {
        "id": "66jwSlrwte00"
      },
      "execution_count": 53,
      "outputs": []
    },
    {
      "cell_type": "markdown",
      "source": [
        "There are about 60 rows of accidents in which the lighting conditions is unknown, but we may deduced it from rows of different accidents which accured on the same location where the lighting condition is not unknown. Having said that, we can only deduced this iformation with a high level of confidence from rows with a known lighting condition = 5 (among the 'known' rows), which means 'no lighting', since, if for example the lighting condition recorded for a row is 'improper lighting', we can not assume with high certainty that this was the condition on another accident happened on the same location (it may have been fixed since, or broke between the two accidents happened).\n",
        "\n",
        "Remainig 'unknown' lighting condition rows were removed."
      ],
      "metadata": {
        "id": "cHFvDDYH9bp-"
      }
    },
    {
      "cell_type": "code",
      "source": [
        "df['TEURA'].value_counts()"
      ],
      "metadata": {
        "colab": {
          "base_uri": "https://localhost:8080/"
        },
        "id": "RV7RzfVtDGrE",
        "outputId": "5b6249a8-9d8d-4784-a451-56a2eaef4b30"
      },
      "execution_count": 54,
      "outputs": [
        {
          "output_type": "execute_result",
          "data": {
            "text/plain": [
              "3    2680\n",
              "5     195\n",
              "4     112\n",
              "7      12\n",
              "Name: TEURA, dtype: int64"
            ]
          },
          "metadata": {},
          "execution_count": 54
        }
      ]
    },
    {
      "cell_type": "markdown",
      "source": [
        "lighting condition code '7' means \"proper lighting with limited visibility\". This may refer to an object limiting the drivers field of vision (directly, or by blocking the light), e.g., a tree, fog, smoke, heavy rain, and can be considered as a hidden confounder: all these rows have 'weather' condition 'rainy' recorded, but we can't tell it affected the visibility for example. So these rows will be removed as well."
      ],
      "metadata": {
        "id": "FB0IfCigQjhE"
      }
    },
    {
      "cell_type": "code",
      "source": [
        "df.drop(index=df[df['TEURA'] == 7].index, inplace=True)"
      ],
      "metadata": {
        "id": "1HwhFi0_JK-g"
      },
      "execution_count": 55,
      "outputs": []
    },
    {
      "cell_type": "code",
      "source": [
        "df.shape"
      ],
      "metadata": {
        "colab": {
          "base_uri": "https://localhost:8080/"
        },
        "id": "JB9GG1oNJ6Hq",
        "outputId": "02912165-88cd-4b35-d43e-2708b81c3c7e"
      },
      "execution_count": 56,
      "outputs": [
        {
          "output_type": "execute_result",
          "data": {
            "text/plain": [
              "(2987, 42)"
            ]
          },
          "metadata": {},
          "execution_count": 56
        }
      ]
    },
    {
      "cell_type": "code",
      "source": [
        "df['TEURA'].value_counts()"
      ],
      "metadata": {
        "colab": {
          "base_uri": "https://localhost:8080/"
        },
        "id": "EqGKAX28Uqfb",
        "outputId": "b62d7360-1ce2-4699-d690-c18ee06018c4"
      },
      "execution_count": 57,
      "outputs": [
        {
          "output_type": "execute_result",
          "data": {
            "text/plain": [
              "3    2680\n",
              "5     195\n",
              "4     112\n",
              "Name: TEURA, dtype: int64"
            ]
          },
          "metadata": {},
          "execution_count": 57
        }
      ]
    },
    {
      "cell_type": "markdown",
      "source": [
        "### Replace column TEURA with T (for treatment) and values 0 or 1\n",
        "0 == no lighting; 1 == proper lighting"
      ],
      "metadata": {
        "id": "sF5H-zqfiDmL"
      }
    },
    {
      "cell_type": "code",
      "source": [
        "df['T'] = df['TEURA'].apply(lambda x: 1 if x == 3 else 0)\n",
        "df.drop(columns=['TEURA'], inplace=True)"
      ],
      "metadata": {
        "id": "VXptn9wAiZB-"
      },
      "execution_count": 12,
      "outputs": []
    },
    {
      "cell_type": "markdown",
      "source": [
        "### Naively check accidents severity distribution"
      ],
      "metadata": {
        "id": "pcHkgZdZh6Vh"
      }
    },
    {
      "cell_type": "code",
      "source": [
        "all_accidents = df['HUMRAT_TEUNA'].value_counts().to_dict()\n",
        "no_light_accidents = df[df['T'] == 0]['HUMRAT_TEUNA'].value_counts().to_dict()\n",
        "\n",
        "label = {1: 'Fatal', 2:'Major', 3:'Minor'}\n",
        "\n",
        "fig, ax = plt.subplots(1, 2)\n",
        "fig.suptitle(\"Accidents Severity Distribution\")\n",
        "\n",
        "ax[0].pie([all_accidents[i+1] for i in range(3)], labels=[label[i+1] for i in range(3)], autopct='%1.1f%%')\n",
        "ax[1].pie([no_light_accidents[i+1] for i in range(3)], labels=[label[i+1] for i in range(3)], autopct='%1.1f%%')\n",
        "\n",
        "ax[0].set_title(\"All Accidents\")\n",
        "ax[1].set_title(\"Accidents in No Light Condition\")\n",
        "\n",
        "plt.show()"
      ],
      "metadata": {
        "colab": {
          "base_uri": "https://localhost:8080/",
          "height": 245
        },
        "id": "nWe8QDSxExlJ",
        "outputId": "cf70d04d-303f-477f-cf81-22e7920f366a"
      },
      "execution_count": 13,
      "outputs": [
        {
          "output_type": "display_data",
          "data": {
            "text/plain": [
              "<Figure size 432x288 with 2 Axes>"
            ],
            "image/png": "[encoded data removed]"
          },
          "metadata": {}
        }
      ]
    },
    {
      "cell_type": "code",
      "source": [
        "# proportion of accidents recorded on intercity raods\n",
        "df[df['SUG_DEREH'].isin([3,4])].shape[0] / df.shape[0]"
      ],
      "metadata": {
        "colab": {
          "base_uri": "https://localhost:8080/"
        },
        "id": "jdIOR0zxWKwe",
        "outputId": "0ad586b4-3a8e-447b-e5c3-5b6972410aae"
      },
      "execution_count": 14,
      "outputs": [
        {
          "output_type": "execute_result",
          "data": {
            "text/plain": [
              "0.3294275192500837"
            ]
          },
          "metadata": {},
          "execution_count": 14
        }
      ]
    },
    {
      "cell_type": "code",
      "source": [
        "df.info()"
      ],
      "metadata": {
        "colab": {
          "base_uri": "https://localhost:8080/"
        },
        "id": "ux0l3oC4fmkH",
        "outputId": "15ea3346-4ad7-45dc-9737-c0f5a3a89b47"
      },
      "execution_count": 15,
      "outputs": [
        {
          "output_type": "stream",
          "name": "stdout",
          "text": [
            "<class 'pandas.core.frame.DataFrame'>\n",
            "Int64Index: 2987 entries, 12 to 12669\n",
            "Data columns (total 42 columns):\n",
            " #   Column             Non-Null Count  Dtype  \n",
            "---  ------             --------------  -----  \n",
            " 0   pk_teuna_fikt      2987 non-null   int64  \n",
            " 1   SUG_DEREH          2987 non-null   int64  \n",
            " 2   SEMEL_YISHUV       2987 non-null   int64  \n",
            " 3   REHOV1             1848 non-null   float64\n",
            " 4   REHOV2             1024 non-null   float64\n",
            " 5   BAYIT              902 non-null    float64\n",
            " 6   ZOMET_IRONI        1024 non-null   float64\n",
            " 7   KVISH1             984 non-null    float64\n",
            " 8   KVISH2             971 non-null    float64\n",
            " 9   KM                 983 non-null    float64\n",
            " 10  ZOMET_LO_IRONI     333 non-null    float64\n",
            " 11  YEHIDA             2987 non-null   int64  \n",
            " 12  HODESH_TEUNA       2987 non-null   int64  \n",
            " 13  SHAA               2987 non-null   int64  \n",
            " 14  SUG_YOM            2987 non-null   int64  \n",
            " 15  YOM_LAYLA          2987 non-null   int64  \n",
            " 16  YOM_BASHAVUA       2987 non-null   int64  \n",
            " 17  HUMRAT_TEUNA       2987 non-null   int64  \n",
            " 18  SUG_TEUNA          2987 non-null   int64  \n",
            " 19  HAD_MASLUL         2987 non-null   int64  \n",
            " 20  RAV_MASLUL         2987 non-null   int64  \n",
            " 21  MEHIRUT_MUTERET    2987 non-null   int64  \n",
            " 22  TKINUT             2987 non-null   int64  \n",
            " 23  ROHAV              2987 non-null   int64  \n",
            " 24  SIMUN_TIMRUR       2987 non-null   int64  \n",
            " 25  MEZEG_AVIR         2987 non-null   int64  \n",
            " 26  PNE_KVISH          2987 non-null   int64  \n",
            " 27  SUG_EZEM           2987 non-null   int64  \n",
            " 28  MERHAK_EZEM        2987 non-null   int64  \n",
            " 29  LO_HAZA            2987 non-null   int64  \n",
            " 30  OFEN_HAZIYA        2987 non-null   int64  \n",
            " 31  MEKOM_HAZIYA       2987 non-null   int64  \n",
            " 32  KIVUN_HAZIYA       2987 non-null   int64  \n",
            " 33  MAHOZ              2987 non-null   int64  \n",
            " 34  NAFA               2987 non-null   int64  \n",
            " 35  EZOR_TIVI          2987 non-null   int64  \n",
            " 36  MAAMAD_MINIZIPALI  2987 non-null   float64\n",
            " 37  ZURAT_ISHUV        2987 non-null   int64  \n",
            " 38  STATUS_IGUN        2987 non-null   int64  \n",
            " 39  X                  2987 non-null   float64\n",
            " 40  Y                  2987 non-null   float64\n",
            " 41  T                  2987 non-null   int64  \n",
            "dtypes: float64(11), int64(31)\n",
            "memory usage: 1003.4 KB\n"
          ]
        }
      ]
    },
    {
      "cell_type": "markdown",
      "source": [
        "### Deal with NaN cells\n",
        "- 'REHOV1', 'REHOV2' - nan to '0'\n",
        "- 'ZOMET_IRONI' - first drop rows with value < 10 (2 rows in daylight and minor severity), then nan to 0\n",
        "- 'KM' - change negative values to positive (it's just some signal of unknown hundredth meter, then nan to 0\n",
        "columns to drop:\n",
        "- 'BAYIT' - most of the cells are NaN, most of not-nan are '9999' which is likely the same as 'unknown' - drop this column"
      ],
      "metadata": {
        "id": "mhCDcPc9UxeT"
      }
    },
    {
      "cell_type": "code",
      "source": [
        "df.drop(index=df[df['ZOMET_IRONI'] < 10].index, inplace=True)\n",
        "\n",
        "df.drop(index=df[df['ZOMET_IRONI'] < 10].index, inplace=True)\n",
        "\n",
        "for i in df[df['KM'] < 0].index:\n",
        "  df.loc[i, 'KM'] = np.abs(df.loc[i, 'KM'])\n",
        "\n",
        "to_drop = ['BAYIT', 'pk_teuna_fikt']\n",
        "df.drop(columns=to_drop, inplace=True)\n",
        "\n",
        "nan_to_0 = ['REHOV1', 'REHOV2', 'ZOMET_IRONI', 'KVISH1', 'KVISH2', 'KM', 'ZOMET_LO_IRONI']\n",
        "\n",
        "df.fillna(0, inplace=True)"
      ],
      "metadata": {
        "id": "fcnXVJ0eYjtz"
      },
      "execution_count": 16,
      "outputs": []
    },
    {
      "cell_type": "code",
      "source": [
        "df.info()"
      ],
      "metadata": {
        "colab": {
          "base_uri": "https://localhost:8080/"
        },
        "id": "u-H7u703hZYM",
        "outputId": "51469d62-c85b-433b-ef65-4b9d20b5d2f5"
      },
      "execution_count": 17,
      "outputs": [
        {
          "output_type": "stream",
          "name": "stdout",
          "text": [
            "<class 'pandas.core.frame.DataFrame'>\n",
            "Int64Index: 2985 entries, 12 to 12669\n",
            "Data columns (total 40 columns):\n",
            " #   Column             Non-Null Count  Dtype  \n",
            "---  ------             --------------  -----  \n",
            " 0   SUG_DEREH          2985 non-null   int64  \n",
            " 1   SEMEL_YISHUV       2985 non-null   int64  \n",
            " 2   REHOV1             2985 non-null   float64\n",
            " 3   REHOV2             2985 non-null   float64\n",
            " 4   ZOMET_IRONI        2985 non-null   float64\n",
            " 5   KVISH1             2985 non-null   float64\n",
            " 6   KVISH2             2985 non-null   float64\n",
            " 7   KM                 2985 non-null   float64\n",
            " 8   ZOMET_LO_IRONI     2985 non-null   float64\n",
            " 9   YEHIDA             2985 non-null   int64  \n",
            " 10  HODESH_TEUNA       2985 non-null   int64  \n",
            " 11  SHAA               2985 non-null   int64  \n",
            " 12  SUG_YOM            2985 non-null   int64  \n",
            " 13  YOM_LAYLA          2985 non-null   int64  \n",
            " 14  YOM_BASHAVUA       2985 non-null   int64  \n",
            " 15  HUMRAT_TEUNA       2985 non-null   int64  \n",
            " 16  SUG_TEUNA          2985 non-null   int64  \n",
            " 17  HAD_MASLUL         2985 non-null   int64  \n",
            " 18  RAV_MASLUL         2985 non-null   int64  \n",
            " 19  MEHIRUT_MUTERET    2985 non-null   int64  \n",
            " 20  TKINUT             2985 non-null   int64  \n",
            " 21  ROHAV              2985 non-null   int64  \n",
            " 22  SIMUN_TIMRUR       2985 non-null   int64  \n",
            " 23  MEZEG_AVIR         2985 non-null   int64  \n",
            " 24  PNE_KVISH          2985 non-null   int64  \n",
            " 25  SUG_EZEM           2985 non-null   int64  \n",
            " 26  MERHAK_EZEM        2985 non-null   int64  \n",
            " 27  LO_HAZA            2985 non-null   int64  \n",
            " 28  OFEN_HAZIYA        2985 non-null   int64  \n",
            " 29  MEKOM_HAZIYA       2985 non-null   int64  \n",
            " 30  KIVUN_HAZIYA       2985 non-null   int64  \n",
            " 31  MAHOZ              2985 non-null   int64  \n",
            " 32  NAFA               2985 non-null   int64  \n",
            " 33  EZOR_TIVI          2985 non-null   int64  \n",
            " 34  MAAMAD_MINIZIPALI  2985 non-null   float64\n",
            " 35  ZURAT_ISHUV        2985 non-null   int64  \n",
            " 36  STATUS_IGUN        2985 non-null   int64  \n",
            " 37  X                  2985 non-null   float64\n",
            " 38  Y                  2985 non-null   float64\n",
            " 39  T                  2985 non-null   int64  \n",
            "dtypes: float64(10), int64(30)\n",
            "memory usage: 1020.7 KB\n"
          ]
        }
      ]
    },
    {
      "cell_type": "markdown",
      "source": [
        "# Compute Propensity Score"
      ],
      "metadata": {
        "id": "ge4ul6MYkIw7"
      }
    },
    {
      "cell_type": "code",
      "source": [
        "T = df['T']\n",
        "Y = df['HUMRAT_TEUNA']\n",
        "X = df.drop(['T', 'HUMRAT_TEUNA'], axis=1)\n",
        "\n",
        "X_train, X_test, T_train, T_test = train_test_split(X, T, random_state=27)"
      ],
      "metadata": {
        "id": "cJvT7I7GkIFK"
      },
      "execution_count": 18,
      "outputs": []
    },
    {
      "cell_type": "code",
      "source": [
        "# X_train.shape, X_test.shape\n",
        "print(T_train.value_counts())\n",
        "print(T_test.value_counts())"
      ],
      "metadata": {
        "colab": {
          "base_uri": "https://localhost:8080/"
        },
        "id": "WJ62loV-oSrR",
        "outputId": "e6fcca26-8102-4418-bcdd-e7d0aa8bbbef"
      },
      "execution_count": 19,
      "outputs": [
        {
          "output_type": "stream",
          "name": "stdout",
          "text": [
            "1    2004\n",
            "0     234\n",
            "Name: T, dtype: int64\n",
            "1    674\n",
            "0     73\n",
            "Name: T, dtype: int64\n"
          ]
        }
      ]
    },
    {
      "cell_type": "markdown",
      "source": [
        "### Try logistic-regression model"
      ],
      "metadata": {
        "id": "nhET8ldK5Ncu"
      }
    },
    {
      "cell_type": "code",
      "source": [
        "lr_model = LogisticRegression(max_iter=1000)\n",
        "lr_model.fit(X_train,T_train)\n",
        "lr_model.score(X_train, T_train), lr_model.score(X_test, T_test), lr_model.score(X, T)\n",
        "T_pred = lr_model.predict(X_test)\n",
        "print(confusion_matrix(T_test, T_pred))\n",
        "print(classification_report(T_test, T_pred))"
      ],
      "metadata": {
        "colab": {
          "base_uri": "https://localhost:8080/"
        },
        "id": "euUGnyk1C6Bi",
        "outputId": "70a40111-e0f4-43e4-d1da-5292693d0109"
      },
      "execution_count": 20,
      "outputs": [
        {
          "output_type": "stream",
          "name": "stdout",
          "text": [
            "[[  7  66]\n",
            " [  7 667]]\n",
            "              precision    recall  f1-score   support\n",
            "\n",
            "           0       0.50      0.10      0.16        73\n",
            "           1       0.91      0.99      0.95       674\n",
            "\n",
            "    accuracy                           0.90       747\n",
            "   macro avg       0.70      0.54      0.55       747\n",
            "weighted avg       0.87      0.90      0.87       747\n",
            "\n"
          ]
        }
      ]
    },
    {
      "cell_type": "markdown",
      "source": [
        "### Try XGBoost"
      ],
      "metadata": {
        "id": "aQGA3sO45VXI"
      }
    },
    {
      "cell_type": "code",
      "source": [
        "xgb_model = xgb.XGBClassifier(learning_rate=0.1, max_depth=3, max_features='sqrt')\n",
        "xgb_model.fit(X_train, T_train)\n",
        "xgb_model.score(X_train, T_train), xgb_model.score(X_test, T_test), xgb_model.score(X, T)\n",
        "\n",
        "T_pred = xgb_model.predict(X_test)\n",
        "print(confusion_matrix(T_test, T_pred))\n",
        "print(classification_report(T_test, T_pred))\n",
        "print(\"total conf_mat:\")\n",
        "print(confusion_matrix(T, xgb_model.predict(X)))\n",
        "print(\"total accuracy: \", xgb_model.score(X, T))"
      ],
      "metadata": {
        "id": "Heg7s8lYl6uM"
      },
      "execution_count": null,
      "outputs": []
    },
    {
      "cell_type": "markdown",
      "source": [
        "### XGBoost adjusted for imbalanced data"
      ],
      "metadata": {
        "id": "LV832iUw5a4Q"
      }
    },
    {
      "cell_type": "code",
      "source": [
        "# format data for training\n",
        "dtrain = xgb.DMatrix(X_train, label=T_train)\n",
        "dtest = xgb.DMatrix(X_test, label=T_test)\n",
        "\n",
        "# calculate scale_pos_weight\n",
        "count_negatives = len(T_train) - sum(T_train)\n",
        "count_positives = sum(T_train)\n",
        "scale_pos_weight = count_negatives / count_positives\n",
        "\n",
        "# define XGBoost model\n",
        "xgb_model = xgb.XGBClassifier(scale_pos_weight=scale_pos_weight, learning_rate=0.1, max_depth=3)\n",
        "\n",
        "# train XGBoost model\n",
        "xgb_model.fit(X_train, T_train)\n",
        "\n",
        "# evaluate XGBoost model\n",
        "T_pred = xgb_model.predict(X_test)\n",
        "print(confusion_matrix(T_test, T_pred))\n",
        "print(classification_report(T_test, T_pred))\n",
        "\n",
        "print(\"total conf_mat\")\n",
        "print(confusion_matrix(T, xgb_model.predict(X)))\n",
        "print(\"total accuracy: \", xgb_model.score(X, T))"
      ],
      "metadata": {
        "id": "-KoGUy7ewI0L"
      },
      "execution_count": null,
      "outputs": []
    },
    {
      "cell_type": "markdown",
      "source": [
        "###hyper param tuning for XGB"
      ],
      "metadata": {
        "id": "UnM-eSem_uay"
      }
    },
    {
      "cell_type": "code",
      "source": [
        "def xgb_classifier_tuning(X_train, y_train, param_grid, multi_class=False):\n",
        "    \"\"\"\n",
        "    A function to perform hyperparameter tuning on an XGBoost classifier using GridSearchCV.\n",
        "\n",
        "    Parameters:\n",
        "    - X_train (pd.DataFrame): Training data features.\n",
        "    - y_train (pd.Series): Training data target.\n",
        "    - param_grid (dict): Dictionary with hyperparameters to test.\n",
        "    - multi_class (bool): if True then number of classes >2\n",
        "\n",
        "    Returns:\n",
        "    - best_params (dict): Dictionary with the best hyperparameters found.\n",
        "    - best_score (float): Best score obtained.\n",
        "    \"\"\"\n",
        "    # calculate weights to address imbalanced data\n",
        "    if multi_class:\n",
        "      weight_dict = dict()\n",
        "      for k,v in y_train.value_counts().to_dict().items():\n",
        "        weight_dict[k] = v/y_train.shape[0]\n",
        "      weights = [weight_dict[i] for i in y_train.values]\n",
        "      xgb_model = xgb.XGBClassifier(weight=weights, \n",
        "                                    objective='multi:softmax')\n",
        "      \n",
        "      scoring = 'f1_weighted'\n",
        "\n",
        "    else: \n",
        "      count_negatives = len(y_train) - sum(y_train)\n",
        "      count_positives = sum(y_train)\n",
        "      scale_pos_weight = count_negatives / count_positives\n",
        "\n",
        "      # Instantiate the XGBoost classifier\n",
        "      xgb_model = xgb.XGBClassifier(scale_pos_weight=scale_pos_weight, \n",
        "                                    objective='binary:logistic', \n",
        "                                    eval_metric='auc')\n",
        "      scoring = 'roc_auc'\n",
        "\n",
        "    \n",
        "    # Instantiate the GridSearchCV object\n",
        "    grid_search = GridSearchCV(estimator=xgb_model, \n",
        "                               param_grid=param_grid, \n",
        "                               cv=5, n_jobs=-1, scoring=scoring)\n",
        "\n",
        "    # Perform the grid search\n",
        "    grid_search.fit(X_train, y_train)\n",
        "\n",
        "    # Print the best hyperparameters and best score\n",
        "    best_params = grid_search.best_params_\n",
        "    best_score = grid_search.best_score_\n",
        "    # print(\"Best hyperparameters found:\\n\", best_params)\n",
        "    # print(\"Best score:\", best_score)\n",
        "\n",
        "    best_model = grid_search.best_estimator_\n",
        "\n",
        "    # Return the best hyperparameters and best score\n",
        "    return best_params, best_score, best_model\n"
      ],
      "metadata": {
        "id": "lKKBTbPX4Zg9"
      },
      "execution_count": 21,
      "outputs": []
    },
    {
      "cell_type": "code",
      "source": [
        "param_grid = {\n",
        "    'max_depth': [3, 4, 5, 6],\n",
        "    'eta': [0.2, 0.1, 0.05],\n",
        "    'n_estimators': np.arange(50, 301, 50)\n",
        "}\n",
        "best_params_ps, best_score_ps, best_model_ps = xgb_classifier_tuning(X_train, T_train, param_grid, multi_class=False)\n"
      ],
      "metadata": {
        "id": "tANRASHwtAbc"
      },
      "execution_count": 22,
      "outputs": []
    },
    {
      "cell_type": "markdown",
      "source": [
        "### save/load model"
      ],
      "metadata": {
        "id": "8lGLDKAWW32N"
      }
    },
    {
      "cell_type": "code",
      "source": [
        "best_model_ps.save_model(\"xgb_propensity_model.json\")\n",
        "\n",
        "# best_model_loaded = xgb.XGBClassifier()\n",
        "# best_model_loaded.load_model(\"xgb_propensity_model.json\")"
      ],
      "metadata": {
        "id": "TZMhr20DGIlX",
        "colab": {
          "base_uri": "https://localhost:8080/"
        },
        "outputId": "00e4638c-0e66-457e-dfb2-af3a2cc83d9b"
      },
      "execution_count": 23,
      "outputs": [
        {
          "output_type": "stream",
          "name": "stderr",
          "text": [
            "/usr/local/lib/python3.8/dist-packages/xgboost/sklearn.py:761: UserWarning: n_estimators is not saved in Scikit-Learn meta.\n",
            "  warnings.warn(\n"
          ]
        }
      ]
    },
    {
      "cell_type": "code",
      "source": [
        "# best_model_loaded.predict(X_test)"
      ],
      "metadata": {
        "id": "iQa8Eo8Ne3Pt"
      },
      "execution_count": 24,
      "outputs": []
    },
    {
      "cell_type": "code",
      "source": [
        "T_pred = best_model_ps.predict(X_test)\n",
        "print(confusion_matrix(T_test, T_pred))\n",
        "print(classification_report(T_test, T_pred))"
      ],
      "metadata": {
        "colab": {
          "base_uri": "https://localhost:8080/"
        },
        "id": "p8R9RKBdBm_Q",
        "outputId": "290f03b8-538c-4e09-ade2-aaecc9b59ffe"
      },
      "execution_count": 25,
      "outputs": [
        {
          "output_type": "stream",
          "name": "stdout",
          "text": [
            "[[ 49  24]\n",
            " [ 99 575]]\n",
            "              precision    recall  f1-score   support\n",
            "\n",
            "           0       0.33      0.67      0.44        73\n",
            "           1       0.96      0.85      0.90       674\n",
            "\n",
            "    accuracy                           0.84       747\n",
            "   macro avg       0.65      0.76      0.67       747\n",
            "weighted avg       0.90      0.84      0.86       747\n",
            "\n"
          ]
        }
      ]
    },
    {
      "cell_type": "code",
      "source": [
        "print(confusion_matrix(T, best_model_ps.predict(X)))\n",
        "print(classification_report(T, best_model_ps.predict(X)))"
      ],
      "metadata": {
        "colab": {
          "base_uri": "https://localhost:8080/"
        },
        "id": "YikQ430zJZc3",
        "outputId": "d0d70261-edc7-4ee9-e292-cf43916f2387"
      },
      "execution_count": 26,
      "outputs": [
        {
          "output_type": "stream",
          "name": "stdout",
          "text": [
            "[[ 271   36]\n",
            " [ 315 2363]]\n",
            "              precision    recall  f1-score   support\n",
            "\n",
            "           0       0.46      0.88      0.61       307\n",
            "           1       0.98      0.88      0.93      2678\n",
            "\n",
            "    accuracy                           0.88      2985\n",
            "   macro avg       0.72      0.88      0.77      2985\n",
            "weighted avg       0.93      0.88      0.90      2985\n",
            "\n"
          ]
        }
      ]
    },
    {
      "cell_type": "markdown",
      "source": [
        "### check calibration"
      ],
      "metadata": {
        "id": "FMSQopnV6dk0"
      }
    },
    {
      "cell_type": "code",
      "source": [
        "# Predict Probabilities\n",
        "prob = best_model.predict_proba(X)\n",
        " \n",
        "# Creating Calibration Curve\n",
        "x, y = calibration_curve(T, prob[np.arange(prob.shape[0]), T.values], n_bins = 10, normalize = True)\n",
        " \n",
        "# Plot calibration curve\n",
        " \n",
        "# Plot perfectly calibrated\n",
        "plt.plot([0, 1], [0, 1], linestyle = '--', label = 'Ideally Calibrated')\n",
        " \n",
        "# Plot model's calibration curve\n",
        "plt.plot(y, x, marker = '.', label = 'XGB Classifier')\n",
        " \n",
        "leg = plt.legend(loc = 'upper left')\n",
        "plt.xlabel('Average Predicted Probability in each bin')\n",
        "plt.ylabel('Ratio of positives')\n",
        "plt.show()"
      ],
      "metadata": {
        "colab": {
          "base_uri": "https://localhost:8080/",
          "height": 279
        },
        "id": "S6JQuw4PNTqM",
        "outputId": "9d180107-f332-4fde-f582-68d3f8dd9ddd"
      },
      "execution_count": null,
      "outputs": [
        {
          "output_type": "display_data",
          "data": {
            "text/plain": [
              "<Figure size 432x288 with 1 Axes>"
            ],
            "image/png": "[encoded data removed]"
          },
          "metadata": {
            "needs_background": "light"
          }
        }
      ]
    },
    {
      "cell_type": "markdown",
      "source": [
        "### check overlap"
      ],
      "metadata": {
        "id": "bXUtLbQzfIqJ"
      }
    },
    {
      "cell_type": "code",
      "source": [
        "propensity_score = best_model_ps.predict_proba(X)[:, 1]\n",
        "# print(propensity_score)\n",
        "treatment = T.values\n",
        "# print(treatment)\n",
        "\n",
        "mean_ps_treated = np.mean(propensity_score[treatment == 1])\n",
        "mean_ps_untreated = np.mean(propensity_score[treatment == 0])\n",
        "\n",
        "# print(mean_ps_treated, mean_ps_untreated)\n",
        "\n",
        "plt.hist(propensity_score[treatment == 1], density=True, alpha=0.5, bins=20, label='Treated')\n",
        "plt.hist(propensity_score[treatment == 0], density=True, alpha=0.5, bins=20, label='Untreated')\n",
        "# plt.axvline(mean_ps_treated, color='blue', linestyle='--', label='Mean PS (treated)')\n",
        "# plt.axvline(mean_ps_untreated, color='orange', linestyle='--', label='Mean PS (untreated)')\n",
        "plt.legend()\n",
        "plt.title(\"Propensity Overlap\")\n",
        "plt.xlabel('Propensity score')\n",
        "plt.ylabel('Density')\n",
        "plt.show()"
      ],
      "metadata": {
        "colab": {
          "base_uri": "https://localhost:8080/",
          "height": 295
        },
        "id": "0_wQ1qESTgVo",
        "outputId": "02f5e091-0bf5-4e95-ddb0-bda763349f8a"
      },
      "execution_count": 27,
      "outputs": [
        {
          "output_type": "display_data",
          "data": {
            "text/plain": [
              "<Figure size 432x288 with 1 Axes>"
            ],
            "image/png": "[encoded data removed]"
          },
          "metadata": {
            "needs_background": "light"
          }
        }
      ]
    },
    {
      "cell_type": "code",
      "source": [
        "print(np.histogram(propensity_score[treatment == 0], bins=20))\n",
        "print(np.histogram(propensity_score[treatment == 1], bins=20))\n",
        "# np.sort(propensity_score[treatment == 0])"
      ],
      "metadata": {
        "id": "OQ79Z_CGXrS8",
        "colab": {
          "base_uri": "https://localhost:8080/"
        },
        "outputId": "39df5100-fb72-4936-8ec8-42bfd438c814"
      },
      "execution_count": 34,
      "outputs": [
        {
          "output_type": "stream",
          "name": "stdout",
          "text": [
            "(array([54, 60, 36, 21, 27, 24, 22, 12,  9,  6,  7,  3,  3,  6,  3,  4,  0,\n",
            "        1,  5,  4]), array([0.01201959, 0.06108773, 0.11015587, 0.159224  , 0.20829214,\n",
            "       0.25736028, 0.3064284 , 0.35549656, 0.40456468, 0.45363283,\n",
            "       0.502701  , 0.5517691 , 0.60083723, 0.6499054 , 0.69897354,\n",
            "       0.7480416 , 0.7971098 , 0.84617794, 0.8952461 , 0.9443142 ,\n",
            "       0.99338233], dtype=float32))\n",
            "(array([ 19,  23,  29,  31,  27,  25,  36,  40,  50,  48,  60,  55,  69,\n",
            "       107, 121, 193, 220, 334, 487, 704]), array([0.03049301, 0.07884018, 0.12718736, 0.17553453, 0.22388169,\n",
            "       0.27222887, 0.32057604, 0.36892322, 0.4172704 , 0.46561757,\n",
            "       0.5139647 , 0.5623119 , 0.61065906, 0.65900624, 0.7073534 ,\n",
            "       0.7557006 , 0.80404776, 0.85239494, 0.9007421 , 0.9490893 ,\n",
            "       0.99743646], dtype=float32))\n"
          ]
        }
      ]
    },
    {
      "cell_type": "markdown",
      "source": [
        "### Trim extreme propensity scores"
      ],
      "metadata": {
        "id": "q5XsbScBAtdL"
      }
    },
    {
      "cell_type": "code",
      "source": [
        "X_new = []\n",
        "T_new = []\n",
        "Y_new = []\n",
        "propensity_score_new = []\n",
        "\n",
        "for i, ps in enumerate(propensity_score):\n",
        "  if ps < 0.8 and ps > 0.11:\n",
        "    X_new.append(X.values[i])\n",
        "    T_new.append(T.values[i])\n",
        "    Y_new.append(Y.values[i])\n",
        "    propensity_score_new.append(ps)\n",
        "\n",
        "X_new = pd.DataFrame(data=X_new, columns=X.columns)\n",
        "T_new = pd.Series(data=T_new, name='T')\n",
        "Y_new = pd.Series(data=Y_new, name='HUMRAT_TEUNA')\n",
        "propensity_score_new = pd.Series(data=propensity_score_new, name='propensity score')"
      ],
      "metadata": {
        "id": "NSys8QHrAFRG"
      },
      "execution_count": 28,
      "outputs": []
    },
    {
      "cell_type": "code",
      "source": [
        "treatment = T_new.values\n",
        "\n",
        "\n",
        "plt.hist(propensity_score_new[treatment == 1], density=True, alpha=0.5, bins=20, label='Treated')\n",
        "plt.hist(propensity_score_new[treatment == 0], density=True, alpha=0.5, bins=20, label='Untreated')\n",
        "# plt.axvline(mean_ps_treated, color='blue', linestyle='--', label='Mean PS (treated)')\n",
        "# plt.axvline(mean_ps_untreated, color='orange', linestyle='--', label='Mean PS (untreated)')\n",
        "plt.legend()\n",
        "plt.title(\"Propensity Overlap\")\n",
        "plt.xlabel('Propensity score')\n",
        "plt.ylabel('Density')\n",
        "plt.show()"
      ],
      "metadata": {
        "colab": {
          "base_uri": "https://localhost:8080/",
          "height": 295
        },
        "id": "1yJNvXweDz4g",
        "outputId": "27ee4497-c121-4222-d080-07f22c10c60d"
      },
      "execution_count": 29,
      "outputs": [
        {
          "output_type": "display_data",
          "data": {
            "text/plain": [
              "<Figure size 432x288 with 1 Axes>"
            ],
            "image/png": "[encoded data removed]"
          },
          "metadata": {
            "needs_background": "light"
          }
        }
      ]
    },
    {
      "cell_type": "code",
      "source": [
        "np.unique(T_new, return_counts=True), np.unique(Y_new, return_counts=True)"
      ],
      "metadata": {
        "colab": {
          "base_uri": "https://localhost:8080/"
        },
        "id": "vrA3F3C9GUi_",
        "outputId": "ff20ec2d-0494-42eb-f26c-04b3a0ea6b29"
      },
      "execution_count": 32,
      "outputs": [
        {
          "output_type": "execute_result",
          "data": {
            "text/plain": [
              "((array([0, 1]), array([183, 881])),\n",
              " (array([1, 2, 3]), array([ 48, 198, 818])))"
            ]
          },
          "metadata": {},
          "execution_count": 32
        }
      ]
    },
    {
      "cell_type": "markdown",
      "source": [
        "## Estimate ATE"
      ],
      "metadata": {
        "id": "eHCYI9tIVfTw"
      }
    },
    {
      "cell_type": "markdown",
      "source": [
        "change Y values from {1,2,3} to {0,1,2} by subtracting 1"
      ],
      "metadata": {
        "id": "P8VpienVPoCQ"
      }
    },
    {
      "cell_type": "code",
      "source": [
        "Y_new = Y_new - 1"
      ],
      "metadata": {
        "id": "O7x2QYm4PmeK"
      },
      "execution_count": 30,
      "outputs": []
    },
    {
      "cell_type": "markdown",
      "source": [
        "### S-Learner\n",
        "Use 1 model to estimate Y with X,T as features\n",
        "\n",
        "$y ≈ f(x,t)$\n",
        "\n",
        "$\\widehat{ATE}$ = $1 \\over n$ $\\sum f(x_i,1) - f(x_i,0)$"
      ],
      "metadata": {
        "id": "XK3P3GVlVn9Y"
      }
    },
    {
      "cell_type": "code",
      "source": [
        "# concatenate X and T\n",
        "cov = X_new.join([T_new])\n",
        "cov_train, cov_test, y_train, y_test = train_test_split(cov, Y_new, random_state=27)"
      ],
      "metadata": {
        "id": "2hRSyJBPVJLc"
      },
      "execution_count": 31,
      "outputs": []
    },
    {
      "cell_type": "code",
      "source": [
        "param_grid = {\n",
        "    'max_depth': [3, 4, 5, 6],\n",
        "    'eta': [0.2, 0.1, 0.05],\n",
        "    'n_estimators': np.arange(50, 301, 50)\n",
        "}\n",
        "best_params_s, best_score_s, best_model_s = xgb_classifier_tuning(cov_train, y_train, param_grid, multi_class=True)"
      ],
      "metadata": {
        "colab": {
          "base_uri": "https://localhost:8080/"
        },
        "id": "BndfOviosvZF",
        "outputId": "f9b82581-80cd-4898-a5a5-d04e2f7a2e09"
      },
      "execution_count": 41,
      "outputs": [
        {
          "output_type": "stream",
          "name": "stdout",
          "text": [
            "[07:45:32] WARNING: ../src/learner.cc:767: \n",
            "Parameters: { \"weight\" } are not used.\n",
            "\n",
            "Best hyperparameters found:\n",
            " {'eta': 0.2, 'max_depth': 6, 'n_estimators': 50}\n",
            "Best score: 0.7169846192672275\n"
          ]
        }
      ]
    },
    {
      "cell_type": "code",
      "source": [
        "best_model_s.save_model(\"xgb_s_learner_model.json\")\n",
        "\n",
        "# best_model_s = xgb.XGBClassifier()\n",
        "# best_model_s.load_model(\"xgb_s_learner_model.json\")"
      ],
      "metadata": {
        "id": "8-YVs5kJHcnx",
        "colab": {
          "base_uri": "https://localhost:8080/"
        },
        "outputId": "0b6720ee-a081-4454-d64b-16f72ee4de12"
      },
      "execution_count": 42,
      "outputs": [
        {
          "output_type": "stream",
          "name": "stderr",
          "text": [
            "/usr/local/lib/python3.8/dist-packages/xgboost/sklearn.py:761: UserWarning: n_estimators is not saved in Scikit-Learn meta.\n",
            "  warnings.warn(\n"
          ]
        }
      ]
    },
    {
      "cell_type": "code",
      "source": [
        "y_pred = best_model_s.predict(cov_test)\n",
        "print(confusion_matrix(y_test, y_pred))\n",
        "print(classification_report(y_test, y_pred))"
      ],
      "metadata": {
        "colab": {
          "base_uri": "https://localhost:8080/"
        },
        "id": "JZYsgMtttd6Q",
        "outputId": "3de2e143-712f-45d4-d383-bf403bd7b050"
      },
      "execution_count": 43,
      "outputs": [
        {
          "output_type": "stream",
          "name": "stdout",
          "text": [
            "[[  1   3  13]\n",
            " [  1   7  40]\n",
            " [  0  16 185]]\n",
            "              precision    recall  f1-score   support\n",
            "\n",
            "           0       0.50      0.06      0.11        17\n",
            "           1       0.27      0.15      0.19        48\n",
            "           2       0.78      0.92      0.84       201\n",
            "\n",
            "    accuracy                           0.73       266\n",
            "   macro avg       0.52      0.38      0.38       266\n",
            "weighted avg       0.67      0.73      0.68       266\n",
            "\n"
          ]
        }
      ]
    },
    {
      "cell_type": "code",
      "source": [
        "print(confusion_matrix(Y_new, best_model_s.predict(cov)))\n",
        "print(classification_report(Y_new, best_model_s.predict(cov)))"
      ],
      "metadata": {
        "colab": {
          "base_uri": "https://localhost:8080/"
        },
        "id": "4IsWrkgT1BEp",
        "outputId": "e2ee4898-36e5-4feb-cf96-51bf93545996"
      },
      "execution_count": 44,
      "outputs": [
        {
          "output_type": "stream",
          "name": "stdout",
          "text": [
            "[[ 32   3  13]\n",
            " [  1 155  42]\n",
            " [  0  16 802]]\n",
            "              precision    recall  f1-score   support\n",
            "\n",
            "           0       0.97      0.67      0.79        48\n",
            "           1       0.89      0.78      0.83       198\n",
            "           2       0.94      0.98      0.96       818\n",
            "\n",
            "    accuracy                           0.93      1064\n",
            "   macro avg       0.93      0.81      0.86      1064\n",
            "weighted avg       0.93      0.93      0.93      1064\n",
            "\n"
          ]
        }
      ]
    },
    {
      "cell_type": "markdown",
      "source": [
        "s-learner ATE"
      ],
      "metadata": {
        "id": "b434h6W0U2i8"
      }
    },
    {
      "cell_type": "code",
      "source": [
        "cov_t0 = cov.copy()\n",
        "cov_t0['T'] = 0\n",
        "\n",
        "cov_t1 = cov.copy()\n",
        "cov_t1['T'] = 1\n",
        "\n",
        "ATE_s = (best_model_s.predict(cov_t1) - best_model_s.predict(cov_t0)).mean()\n",
        "ATE_s"
      ],
      "metadata": {
        "colab": {
          "base_uri": "https://localhost:8080/"
        },
        "id": "sGV4ly-f4ult",
        "outputId": "69f8b0e6-8edf-4bf5-9d0a-0e1597fe154e"
      },
      "execution_count": 45,
      "outputs": [
        {
          "output_type": "execute_result",
          "data": {
            "text/plain": [
              "0.03289473684210526"
            ]
          },
          "metadata": {},
          "execution_count": 45
        }
      ]
    },
    {
      "cell_type": "code",
      "source": [
        "cov.shape"
      ],
      "metadata": {
        "colab": {
          "base_uri": "https://localhost:8080/"
        },
        "id": "xceY27hYc4dN",
        "outputId": "d6188297-a159-499f-e0cf-4e5f41888524"
      },
      "execution_count": 72,
      "outputs": [
        {
          "output_type": "execute_result",
          "data": {
            "text/plain": [
              "(1064, 39)"
            ]
          },
          "metadata": {},
          "execution_count": 72
        }
      ]
    },
    {
      "cell_type": "markdown",
      "source": [
        "### T-Learner\n",
        "fit 2 models, one for each treatment type (use only X as features)\n",
        "$Y_0 ≈ f_0(x), Y_1 ≈ f_1(x)$\n",
        "\n",
        "$\\widehat{ATE}$ = $1 \\over n$ $\\sum f_1(x_i) - f_0(x_i)$"
      ],
      "metadata": {
        "id": "6PN31vygC8t0"
      }
    },
    {
      "cell_type": "code",
      "source": [
        "# add Y column to the data to ease the split\n",
        "data = cov.join([Y_new])"
      ],
      "metadata": {
        "id": "KAPZHIb9VHN0"
      },
      "execution_count": 32,
      "outputs": []
    },
    {
      "cell_type": "code",
      "source": [
        "data.to_csv('data.csv')"
      ],
      "metadata": {
        "id": "WWawg8_Kgmnt"
      },
      "execution_count": 34,
      "outputs": []
    },
    {
      "cell_type": "code",
      "source": [
        "X_0 = data[data['T'] == 0].copy().drop(['T', 'HUMRAT_TEUNA'], axis=1)\n",
        "X_1 = data[data['T'] == 1].copy().drop(['T', 'HUMRAT_TEUNA'], axis=1)\n",
        "\n",
        "Y_0 = data[data['T'] == 0]['HUMRAT_TEUNA'].copy()\n",
        "Y_1 = data[data['T'] == 1]['HUMRAT_TEUNA'].copy()\n",
        "X_0.shape, X_1.shape, Y_0.shape, Y_1.shape"
      ],
      "metadata": {
        "id": "sl8Z2VpA5B3z",
        "colab": {
          "base_uri": "https://localhost:8080/"
        },
        "outputId": "9f29fbf4-f65b-472a-925a-91c5fd228086"
      },
      "execution_count": 47,
      "outputs": [
        {
          "output_type": "execute_result",
          "data": {
            "text/plain": [
              "((183, 38), (881, 38), (183,), (881,))"
            ]
          },
          "metadata": {},
          "execution_count": 47
        }
      ]
    },
    {
      "cell_type": "code",
      "source": [
        "X0_train, X0_test, y0_train, y0_test = train_test_split(X_0, Y_0, random_state=27)\n",
        "X1_train, X1_test, y1_train, y1_test = train_test_split(X_1, Y_1, random_state=27)"
      ],
      "metadata": {
        "id": "aALr3cBCXhGh"
      },
      "execution_count": 48,
      "outputs": []
    },
    {
      "cell_type": "code",
      "source": [
        "param_grid = {\n",
        "    'max_depth': [3, 4, 5, 6],\n",
        "    'eta': [0.2, 0.1, 0.05],\n",
        "    'n_estimators': np.arange(50, 301, 50)\n",
        "}\n",
        "best_params_0, best_score_0, best_model_0 = xgb_classifier_tuning(X0_train, y0_train, param_grid, multi_class=True)\n",
        "best_params_1, best_score_1, best_model_1 = xgb_classifier_tuning(X1_train, y1_train, param_grid, multi_class=True)"
      ],
      "metadata": {
        "colab": {
          "base_uri": "https://localhost:8080/"
        },
        "id": "V5BH_zL6YaRZ",
        "outputId": "337e80f9-96d8-403e-e5c1-1337c2483018"
      },
      "execution_count": 49,
      "outputs": [
        {
          "output_type": "stream",
          "name": "stdout",
          "text": [
            "[07:48:16] WARNING: ../src/learner.cc:767: \n",
            "Parameters: { \"weight\" } are not used.\n",
            "\n",
            "Best hyperparameters found:\n",
            " {'eta': 0.2, 'max_depth': 4, 'n_estimators': 150}\n",
            "Best score: 0.6581875862770172\n",
            "[07:51:56] WARNING: ../src/learner.cc:767: \n",
            "Parameters: { \"weight\" } are not used.\n",
            "\n",
            "Best hyperparameters found:\n",
            " {'eta': 0.1, 'max_depth': 4, 'n_estimators': 200}\n",
            "Best score: 0.7280332239637043\n"
          ]
        }
      ]
    },
    {
      "cell_type": "code",
      "source": [
        "print(confusion_matrix(Y_0, best_model_0.predict(X_0)))\n",
        "print(classification_report(Y_0, best_model_0.predict(X_0)))\n",
        "\n",
        "print(confusion_matrix(Y_1, best_model_1.predict(X_1)))\n",
        "print(classification_report(Y_1, best_model_1.predict(X_1)))"
      ],
      "metadata": {
        "colab": {
          "base_uri": "https://localhost:8080/"
        },
        "id": "qkXncq-EYvn3",
        "outputId": "cbd65749-f5ea-40ca-fdf1-61f67a67c407"
      },
      "execution_count": 50,
      "outputs": [
        {
          "output_type": "stream",
          "name": "stdout",
          "text": [
            "[[ 13   0   5]\n",
            " [  1  30   9]\n",
            " [  2   4 119]]\n",
            "              precision    recall  f1-score   support\n",
            "\n",
            "           0       0.81      0.72      0.76        18\n",
            "           1       0.88      0.75      0.81        40\n",
            "           2       0.89      0.95      0.92       125\n",
            "\n",
            "    accuracy                           0.89       183\n",
            "   macro avg       0.86      0.81      0.83       183\n",
            "weighted avg       0.88      0.89      0.88       183\n",
            "\n",
            "[[ 21   4   5]\n",
            " [  0 126  32]\n",
            " [  0  11 682]]\n",
            "              precision    recall  f1-score   support\n",
            "\n",
            "           0       1.00      0.70      0.82        30\n",
            "           1       0.89      0.80      0.84       158\n",
            "           2       0.95      0.98      0.97       693\n",
            "\n",
            "    accuracy                           0.94       881\n",
            "   macro avg       0.95      0.83      0.88       881\n",
            "weighted avg       0.94      0.94      0.94       881\n",
            "\n"
          ]
        }
      ]
    },
    {
      "cell_type": "markdown",
      "source": [
        "calculate t-learner ATE"
      ],
      "metadata": {
        "id": "ICuRDeO_cOon"
      }
    },
    {
      "cell_type": "code",
      "source": [
        "ate_t = (best_model_1.predict(X_new) - best_model_0.predict(X_new)).mean()\n",
        "ate_t"
      ],
      "metadata": {
        "colab": {
          "base_uri": "https://localhost:8080/"
        },
        "id": "1-N4oCi3bKpt",
        "outputId": "60117906-4c75-47f9-ac1d-1122109342cc"
      },
      "execution_count": 51,
      "outputs": [
        {
          "output_type": "execute_result",
          "data": {
            "text/plain": [
              "0.08740601503759399"
            ]
          },
          "metadata": {},
          "execution_count": 51
        }
      ]
    },
    {
      "cell_type": "markdown",
      "source": [
        "### IPW\n",
        "\n",
        "use the propensity score calculated earlier, mark as $e(x)$.\n",
        "\n",
        "$\\widehat{ATE}$ = $\\frac{1}{n} \\sum \\frac{t_i y_i}{e(x_i)} - \\frac{1}{n} \\sum \\frac{(1-t_i) y_i}{1-e(x_i)}$"
      ],
      "metadata": {
        "id": "OSqgBl08k0mw"
      }
    },
    {
      "cell_type": "code",
      "source": [
        "ate_ipw = (T_new * Y_new / propensity_score_new).mean() - ((1-T_new) * Y_new / (1 - propensity_score_new)).mean()\n",
        "ate_ipw"
      ],
      "metadata": {
        "colab": {
          "base_uri": "https://localhost:8080/"
        },
        "id": "ePtU3k9Qm9BE",
        "outputId": "34f76bb9-6e93-4140-9c65-dd8134775c9e"
      },
      "execution_count": 52,
      "outputs": [
        {
          "output_type": "execute_result",
          "data": {
            "text/plain": [
              "2.652950244831529"
            ]
          },
          "metadata": {},
          "execution_count": 52
        }
      ]
    },
    {
      "cell_type": "markdown",
      "source": [
        "## Bootstraping for ATE estimation\n",
        "\n",
        "1. sample (with replacement) from the data\n",
        "2. refit a model\n",
        "3. calculate ate"
      ],
      "metadata": {
        "id": "D6uKGLurPccE"
      }
    },
    {
      "cell_type": "code",
      "source": [
        "def bootstrap(data, num_iter):\n",
        "  print(\"Started at: \", datetime.now().strftime(\"%H:%M:%S\"))\n",
        "  ATE = {\n",
        "      's': [],\n",
        "      't': [],\n",
        "      'ipw': []\n",
        "  }\n",
        "\n",
        "  for i in range(num_iter):\n",
        "    sample = data.sample(data.shape[0], replace=True)\n",
        "    X_sample = sample.drop(['T', 'HUMRAT_TEUNA'], axis=1)\n",
        "    T_sample = sample['T']\n",
        "    Y_sample = sample['HUMRAT_TEUNA']\n",
        "\n",
        "\n",
        "\n",
        "    # S-learner. X includes T in this model\n",
        "    X_s = sample.copy().drop(['HUMRAT_TEUNA'], axis=1)\n",
        "    Y_s = sample['HUMRAT_TEUNA']\n",
        "    X_s_train, X_s_test, y_s_train, y_s_test = train_test_split(X_s, Y_s, random_state=27)\n",
        "    best_params_s, best_score_s, best_model_s = xgb_classifier_tuning(\n",
        "        X_s_train, y_s_train, param_grid, multi_class=True)\n",
        "    X_t0 = X_s.copy()\n",
        "    X_t0['T'] = 0\n",
        "\n",
        "    X_t1 = X_s.copy()\n",
        "    X_t1['T'] = 1\n",
        "\n",
        "    ATE['s'].append((best_model_s.predict(X_t1) - best_model_s.predict(X_t0)).mean())\n",
        "\n",
        "\n",
        "    # T-Learner\n",
        "    X_t_0 = sample[sample['T'] == 0].copy().drop(['T', 'HUMRAT_TEUNA'], axis=1)\n",
        "    X_t_1 = sample[sample['T'] == 1].copy().drop(['T', 'HUMRAT_TEUNA'], axis=1)\n",
        "\n",
        "    Y_t_0 = sample[sample['T'] == 0]['HUMRAT_TEUNA'].copy()\n",
        "    Y_t_1 = sample[sample['T'] == 1]['HUMRAT_TEUNA'].copy()\n",
        "\n",
        "    Xt0_train, Xt0_test, yt0_train, yt0_test = train_test_split(X_t_0, Y_t_0, random_state=27)\n",
        "    Xt1_train, Xt1_test, yt1_train, yt1_test = train_test_split(X_t_1, Y_t_1, random_state=27)\n",
        "\n",
        "    best_params_0, best_score_0, best_model_0 = xgb_classifier_tuning(\n",
        "        Xt0_train, yt0_train, param_grid, multi_class=True)\n",
        "    best_params_1, best_score_1, best_model_1 = xgb_classifier_tuning(\n",
        "        Xt1_train, yt1_train, param_grid, multi_class=True)\n",
        "\n",
        "    ATE['t'].append((best_model_1.predict(X_sample) - best_model_0.predict(X_sample)).mean())\n",
        "\n",
        "\n",
        "    # IPW\n",
        "    X_ipw_train, X_ipw_test, T_ipw_train, T_ipw_test = train_test_split(X_sample, T_sample, random_state=27)\n",
        "    best_params_ps, best_score_ps, best_model_ps = xgb_classifier_tuning(\n",
        "        X_ipw_train, T_ipw_train, param_grid, multi_class=False)\n",
        "\n",
        "    e_x = best_model_ps.predict_proba(X_sample)[:, 1]\n",
        "\n",
        "    ATE['ipw'].append((T_sample * Y_sample / e_x).mean() - ((1-T_sample) * Y_sample / (1 - e_x)).mean())\n",
        "\n",
        "    if i+1 % 10 == 0:\n",
        "      pd.DataFrame(data=ATE).to_csv('bootstrap_ate.csv')\n",
        "    \n",
        "    print(f\"Iteration {i+1} ended at \", datetime.now().strftime(\"%H:%M:%S\"))\n",
        "\n",
        "\n",
        "  return ATE"
      ],
      "metadata": {
        "id": "jmSmGf5k96iH"
      },
      "execution_count": 101,
      "outputs": []
    },
    {
      "cell_type": "code",
      "source": [
        "# ate = bootstrap(data, 50)"
      ],
      "metadata": {
        "id": "IOHJcM8TP4Il"
      },
      "execution_count": null,
      "outputs": []
    },
    {
      "cell_type": "markdown",
      "source": [
        "### Results of bootstrap process"
      ],
      "metadata": {
        "id": "iQ0zmfe7IJCL"
      }
    },
    {
      "cell_type": "code",
      "source": [
        "ate_df = pd.read_csv('bootstrap_ate_300.csv', index_col=0)"
      ],
      "metadata": {
        "id": "bnVAvTaBIOLN"
      },
      "execution_count": 7,
      "outputs": []
    },
    {
      "cell_type": "code",
      "source": [
        "ate_df.describe()"
      ],
      "metadata": {
        "colab": {
          "base_uri": "https://localhost:8080/",
          "height": 300
        },
        "id": "VmtDP7EoIxPv",
        "outputId": "23b8d698-482e-4055-ca59-b5a0693bfb61"
      },
      "execution_count": 8,
      "outputs": [
        {
          "output_type": "execute_result",
          "data": {
            "text/plain": [
              "                s           t         ipw\n",
              "count  300.000000  300.000000  300.000000\n",
              "mean     0.024264    0.073578   -1.165559\n",
              "std      0.020382    0.068188    4.467346\n",
              "min     -0.003759   -0.074248  -34.976060\n",
              "25%      0.011043    0.024436   -1.172374\n",
              "50%      0.019737    0.072838    0.417341\n",
              "75%      0.031955    0.116071    1.034225\n",
              "max      0.152256    0.272556    1.767357"
            ],
            "text/html": [
              "\n",
              "  <div id=\"df-c6835d08-3379-44f2-9135-1cb9647767c5\">\n",
              "    <div class=\"colab-df-container\">\n",
              "      <div>\n",
              "<style scoped>\n",
              "    .dataframe tbody tr th:only-of-type {\n",
              "        vertical-align: middle;\n",
              "    }\n",
              "\n",
              "    .dataframe tbody tr th {\n",
              "        vertical-align: top;\n",
              "    }\n",
              "\n",
              "    .dataframe thead th {\n",
              "        text-align: right;\n",
              "    }\n",
              "</style>\n",
              "<table border=\"1\" class=\"dataframe\">\n",
              "  <thead>\n",
              "    <tr style=\"text-align: right;\">\n",
              "      <th></th>\n",
              "      <th>s</th>\n",
              "      <th>t</th>\n",
              "      <th>ipw</th>\n",
              "    </tr>\n",
              "  </thead>\n",
              "  <tbody>\n",
              "    <tr>\n",
              "      <th>count</th>\n",
              "      <td>300.000000</td>\n",
              "      <td>300.000000</td>\n",
              "      <td>300.000000</td>\n",
              "    </tr>\n",
              "    <tr>\n",
              "      <th>mean</th>\n",
              "      <td>0.024264</td>\n",
              "      <td>0.073578</td>\n",
              "      <td>-1.165559</td>\n",
              "    </tr>\n",
              "    <tr>\n",
              "      <th>std</th>\n",
              "      <td>0.020382</td>\n",
              "      <td>0.068188</td>\n",
              "      <td>4.467346</td>\n",
              "    </tr>\n",
              "    <tr>\n",
              "      <th>min</th>\n",
              "      <td>-0.003759</td>\n",
              "      <td>-0.074248</td>\n",
              "      <td>-34.976060</td>\n",
              "    </tr>\n",
              "    <tr>\n",
              "      <th>25%</th>\n",
              "      <td>0.011043</td>\n",
              "      <td>0.024436</td>\n",
              "      <td>-1.172374</td>\n",
              "    </tr>\n",
              "    <tr>\n",
              "      <th>50%</th>\n",
              "      <td>0.019737</td>\n",
              "      <td>0.072838</td>\n",
              "      <td>0.417341</td>\n",
              "    </tr>\n",
              "    <tr>\n",
              "      <th>75%</th>\n",
              "      <td>0.031955</td>\n",
              "      <td>0.116071</td>\n",
              "      <td>1.034225</td>\n",
              "    </tr>\n",
              "    <tr>\n",
              "      <th>max</th>\n",
              "      <td>0.152256</td>\n",
              "      <td>0.272556</td>\n",
              "      <td>1.767357</td>\n",
              "    </tr>\n",
              "  </tbody>\n",
              "</table>\n",
              "</div>\n",
              "      <button class=\"colab-df-convert\" onclick=\"convertToInteractive('df-c6835d08-3379-44f2-9135-1cb9647767c5')\"\n",
              "              title=\"Convert this dataframe to an interactive table.\"\n",
              "              style=\"display:none;\">\n",
              "        \n",
              "  <svg xmlns=\"http://www.w3.org/2000/svg\" height=\"24px\"viewBox=\"0 0 24 24\"\n",
              "       width=\"24px\">\n",
              "    <path d=\"M0 0h24v24H0V0z\" fill=\"none\"/>\n",
              "    <path d=\"M18.56 5.44l.94 2.06.94-2.06 2.06-.94-2.06-.94-.94-2.06-.94 2.06-2.06.94zm-11 1L8.5 8.5l.94-2.06 2.06-.94-2.06-.94L8.5 2.5l-.94 2.06-2.06.94zm10 10l.94 2.06.94-2.06 2.06-.94-2.06-.94-.94-2.06-.94 2.06-2.06.94z\"/><path d=\"M17.41 7.96l-1.37-1.37c-.4-.4-.92-.59-1.43-.59-.52 0-1.04.2-1.43.59L10.3 9.45l-7.72 7.72c-.78.78-.78 2.05 0 2.83L4 21.41c.39.39.9.59 1.41.59.51 0 1.02-.2 1.41-.59l7.78-7.78 2.81-2.81c.8-.78.8-2.07 0-2.86zM5.41 20L4 18.59l7.72-7.72 1.47 1.35L5.41 20z\"/>\n",
              "  </svg>\n",
              "      </button>\n",
              "      \n",
              "  <style>\n",
              "    .colab-df-container {\n",
              "      display:flex;\n",
              "      flex-wrap:wrap;\n",
              "      gap: 12px;\n",
              "    }\n",
              "\n",
              "    .colab-df-convert {\n",
              "      background-color: #E8F0FE;\n",
              "      border: none;\n",
              "      border-radius: 50%;\n",
              "      cursor: pointer;\n",
              "      display: none;\n",
              "      fill: #1967D2;\n",
              "      height: 32px;\n",
              "      padding: 0 0 0 0;\n",
              "      width: 32px;\n",
              "    }\n",
              "\n",
              "    .colab-df-convert:hover {\n",
              "      background-color: #E2EBFA;\n",
              "      box-shadow: 0px 1px 2px rgba(60, 64, 67, 0.3), 0px 1px 3px 1px rgba(60, 64, 67, 0.15);\n",
              "      fill: #174EA6;\n",
              "    }\n",
              "\n",
              "    [theme=dark] .colab-df-convert {\n",
              "      background-color: #3B4455;\n",
              "      fill: #D2E3FC;\n",
              "    }\n",
              "\n",
              "    [theme=dark] .colab-df-convert:hover {\n",
              "      background-color: #434B5C;\n",
              "      box-shadow: 0px 1px 3px 1px rgba(0, 0, 0, 0.15);\n",
              "      filter: drop-shadow(0px 1px 2px rgba(0, 0, 0, 0.3));\n",
              "      fill: #FFFFFF;\n",
              "    }\n",
              "  </style>\n",
              "\n",
              "      <script>\n",
              "        const buttonEl =\n",
              "          document.querySelector('#df-c6835d08-3379-44f2-9135-1cb9647767c5 button.colab-df-convert');\n",
              "        buttonEl.style.display =\n",
              "          google.colab.kernel.accessAllowed ? 'block' : 'none';\n",
              "\n",
              "        async function convertToInteractive(key) {\n",
              "          const element = document.querySelector('#df-c6835d08-3379-44f2-9135-1cb9647767c5');\n",
              "          const dataTable =\n",
              "            await google.colab.kernel.invokeFunction('convertToInteractive',\n",
              "                                                     [key], {});\n",
              "          if (!dataTable) return;\n",
              "\n",
              "          const docLinkHtml = 'Like what you see? Visit the ' +\n",
              "            '<a target=\"_blank\" href=https://colab.research.google.com/notebooks/data_table.ipynb>data table notebook</a>'\n",
              "            + ' to learn more about interactive tables.';\n",
              "          element.innerHTML = '';\n",
              "          dataTable['output_type'] = 'display_data';\n",
              "          await google.colab.output.renderOutput(dataTable, element);\n",
              "          const docLink = document.createElement('div');\n",
              "          docLink.innerHTML = docLinkHtml;\n",
              "          element.appendChild(docLink);\n",
              "        }\n",
              "      </script>\n",
              "    </div>\n",
              "  </div>\n",
              "  "
            ]
          },
          "metadata": {},
          "execution_count": 8
        }
      ]
    },
    {
      "cell_type": "code",
      "source": [
        "\n",
        "def get_conf_int(arr, alpha):\n",
        "  L = np.quantile(arr, alpha/2)\n",
        "  U = np.quantile(arr, 1-alpha/2)\n",
        "  return round(L, 4), round(U, 4)"
      ],
      "metadata": {
        "id": "4TuEuvmIKolq"
      },
      "execution_count": 46,
      "outputs": []
    },
    {
      "cell_type": "code",
      "source": [
        "alpha = 0.05\n",
        "CI = [(x, ate_df[x].mean(), get_conf_int(ate_df[x], alpha)) for x in ate_df.columns]\n",
        "CI"
      ],
      "metadata": {
        "colab": {
          "base_uri": "https://localhost:8080/"
        },
        "id": "wk9R1S1pSflt",
        "outputId": "17c58599-68a7-4824-b18e-9e7d487eadb5"
      },
      "execution_count": 45,
      "outputs": [
        {
          "output_type": "execute_result",
          "data": {
            "text/plain": [
              "[('s', 0.024263784461152852, (0.0, 0.072)),\n",
              " ('t', 0.07357769423558895, (-0.0495, 0.2266)),\n",
              " ('ipw', -1.165558944635343, (-15.3755, 1.5767))]"
            ]
          },
          "metadata": {},
          "execution_count": 45
        }
      ]
    },
    {
      "cell_type": "code",
      "source": [
        "ci_df = pd.DataFrame(data=CI, columns=['method', 'mean', '95% CI'])\n",
        "ci_df.set_index(list(ci_df)[0])"
      ],
      "metadata": {
        "colab": {
          "base_uri": "https://localhost:8080/",
          "height": 175
        },
        "id": "f9gs2wHNUqrF",
        "outputId": "4d36041e-cbee-4c3b-aa09-461d0322fd98"
      },
      "execution_count": 39,
      "outputs": [
        {
          "output_type": "execute_result",
          "data": {
            "text/plain": [
              "            mean                                      95% CI\n",
              "method                                                      \n",
              "s       0.024264                    (0.0, 0.018796992481203)\n",
              "t       0.073578  (-0.04945958646616536, 0.0686325187969924)\n",
              "ipw    -1.165559  (-15.375458150030513, 0.23425957262830147)"
            ],
            "text/html": [
              "\n",
              "  <div id=\"df-3b391c17-3e29-4b65-8844-e1f98b81477e\">\n",
              "    <div class=\"colab-df-container\">\n",
              "      <div>\n",
              "<style scoped>\n",
              "    .dataframe tbody tr th:only-of-type {\n",
              "        vertical-align: middle;\n",
              "    }\n",
              "\n",
              "    .dataframe tbody tr th {\n",
              "        vertical-align: top;\n",
              "    }\n",
              "\n",
              "    .dataframe thead th {\n",
              "        text-align: right;\n",
              "    }\n",
              "</style>\n",
              "<table border=\"1\" class=\"dataframe\">\n",
              "  <thead>\n",
              "    <tr style=\"text-align: right;\">\n",
              "      <th></th>\n",
              "      <th>mean</th>\n",
              "      <th>95% CI</th>\n",
              "    </tr>\n",
              "    <tr>\n",
              "      <th>method</th>\n",
              "      <th></th>\n",
              "      <th></th>\n",
              "    </tr>\n",
              "  </thead>\n",
              "  <tbody>\n",
              "    <tr>\n",
              "      <th>s</th>\n",
              "      <td>0.024264</td>\n",
              "      <td>(0.0, 0.018796992481203)</td>\n",
              "    </tr>\n",
              "    <tr>\n",
              "      <th>t</th>\n",
              "      <td>0.073578</td>\n",
              "      <td>(-0.04945958646616536, 0.0686325187969924)</td>\n",
              "    </tr>\n",
              "    <tr>\n",
              "      <th>ipw</th>\n",
              "      <td>-1.165559</td>\n",
              "      <td>(-15.375458150030513, 0.23425957262830147)</td>\n",
              "    </tr>\n",
              "  </tbody>\n",
              "</table>\n",
              "</div>\n",
              "      <button class=\"colab-df-convert\" onclick=\"convertToInteractive('df-3b391c17-3e29-4b65-8844-e1f98b81477e')\"\n",
              "              title=\"Convert this dataframe to an interactive table.\"\n",
              "              style=\"display:none;\">\n",
              "        \n",
              "  <svg xmlns=\"http://www.w3.org/2000/svg\" height=\"24px\"viewBox=\"0 0 24 24\"\n",
              "       width=\"24px\">\n",
              "    <path d=\"M0 0h24v24H0V0z\" fill=\"none\"/>\n",
              "    <path d=\"M18.56 5.44l.94 2.06.94-2.06 2.06-.94-2.06-.94-.94-2.06-.94 2.06-2.06.94zm-11 1L8.5 8.5l.94-2.06 2.06-.94-2.06-.94L8.5 2.5l-.94 2.06-2.06.94zm10 10l.94 2.06.94-2.06 2.06-.94-2.06-.94-.94-2.06-.94 2.06-2.06.94z\"/><path d=\"M17.41 7.96l-1.37-1.37c-.4-.4-.92-.59-1.43-.59-.52 0-1.04.2-1.43.59L10.3 9.45l-7.72 7.72c-.78.78-.78 2.05 0 2.83L4 21.41c.39.39.9.59 1.41.59.51 0 1.02-.2 1.41-.59l7.78-7.78 2.81-2.81c.8-.78.8-2.07 0-2.86zM5.41 20L4 18.59l7.72-7.72 1.47 1.35L5.41 20z\"/>\n",
              "  </svg>\n",
              "      </button>\n",
              "      \n",
              "  <style>\n",
              "    .colab-df-container {\n",
              "      display:flex;\n",
              "      flex-wrap:wrap;\n",
              "      gap: 12px;\n",
              "    }\n",
              "\n",
              "    .colab-df-convert {\n",
              "      background-color: #E8F0FE;\n",
              "      border: none;\n",
              "      border-radius: 50%;\n",
              "      cursor: pointer;\n",
              "      display: none;\n",
              "      fill: #1967D2;\n",
              "      height: 32px;\n",
              "      padding: 0 0 0 0;\n",
              "      width: 32px;\n",
              "    }\n",
              "\n",
              "    .colab-df-convert:hover {\n",
              "      background-color: #E2EBFA;\n",
              "      box-shadow: 0px 1px 2px rgba(60, 64, 67, 0.3), 0px 1px 3px 1px rgba(60, 64, 67, 0.15);\n",
              "      fill: #174EA6;\n",
              "    }\n",
              "\n",
              "    [theme=dark] .colab-df-convert {\n",
              "      background-color: #3B4455;\n",
              "      fill: #D2E3FC;\n",
              "    }\n",
              "\n",
              "    [theme=dark] .colab-df-convert:hover {\n",
              "      background-color: #434B5C;\n",
              "      box-shadow: 0px 1px 3px 1px rgba(0, 0, 0, 0.15);\n",
              "      filter: drop-shadow(0px 1px 2px rgba(0, 0, 0, 0.3));\n",
              "      fill: #FFFFFF;\n",
              "    }\n",
              "  </style>\n",
              "\n",
              "      <script>\n",
              "        const buttonEl =\n",
              "          document.querySelector('#df-3b391c17-3e29-4b65-8844-e1f98b81477e button.colab-df-convert');\n",
              "        buttonEl.style.display =\n",
              "          google.colab.kernel.accessAllowed ? 'block' : 'none';\n",
              "\n",
              "        async function convertToInteractive(key) {\n",
              "          const element = document.querySelector('#df-3b391c17-3e29-4b65-8844-e1f98b81477e');\n",
              "          const dataTable =\n",
              "            await google.colab.kernel.invokeFunction('convertToInteractive',\n",
              "                                                     [key], {});\n",
              "          if (!dataTable) return;\n",
              "\n",
              "          const docLinkHtml = 'Like what you see? Visit the ' +\n",
              "            '<a target=\"_blank\" href=https://colab.research.google.com/notebooks/data_table.ipynb>data table notebook</a>'\n",
              "            + ' to learn more about interactive tables.';\n",
              "          element.innerHTML = '';\n",
              "          dataTable['output_type'] = 'display_data';\n",
              "          await google.colab.output.renderOutput(dataTable, element);\n",
              "          const docLink = document.createElement('div');\n",
              "          docLink.innerHTML = docLinkHtml;\n",
              "          element.appendChild(docLink);\n",
              "        }\n",
              "      </script>\n",
              "    </div>\n",
              "  </div>\n",
              "  "
            ]
          },
          "metadata": {},
          "execution_count": 39
        }
      ]
    }
  ]
}